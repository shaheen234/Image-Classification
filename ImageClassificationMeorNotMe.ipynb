{
 "cells": [
  {
   "cell_type": "markdown",
   "id": "e5e9c7ff",
   "metadata": {},
   "source": [
    "# Read the data into a Data Frame"
   ]
  },
  {
   "cell_type": "code",
   "execution_count": 112,
   "id": "e2157294",
   "metadata": {
    "scrolled": true
   },
   "outputs": [],
   "source": [
    "import pandas as pd\n",
    "dataPath = r\"C:\\Users\\shahe\\Desktop\\UNIVERSITY COURSEWORK\\SP2023\\MACHINELEARNING\\menotme.csv\"\n",
    "data = pd.read_csv(dataPath)"
   ]
  },
  {
   "cell_type": "markdown",
   "id": "42d874d6",
   "metadata": {},
   "source": [
    "# Seting up Data and Train Test Split"
   ]
  },
  {
   "cell_type": "code",
   "execution_count": 113,
   "id": "866a4b2c",
   "metadata": {},
   "outputs": [],
   "source": [
    "data = data.sample(frac = 1)\n",
    "data[\"Label\"] = data[\"Label\"].astype('category')\n",
    "data[\"Label\"] = data[\"Label\"].cat.codes"
   ]
  },
  {
   "cell_type": "markdown",
   "id": "a5249175",
   "metadata": {},
   "source": [
    "# Loading the image Data and resizing it"
   ]
  },
  {
   "cell_type": "code",
   "execution_count": 114,
   "id": "742c4a2a",
   "metadata": {},
   "outputs": [],
   "source": [
    "# only run when resize is needed\n",
    "from PIL import Image\n",
    "\n",
    "for i in data[\"Path\"]:\n",
    "    image = Image.open(i)\n",
    "    image.thumbnail((100,100))\n",
    "    image.save(i)\n",
    "    \n"
   ]
  },
  {
   "cell_type": "code",
   "execution_count": 115,
   "id": "89382476",
   "metadata": {
    "scrolled": true
   },
   "outputs": [],
   "source": [
    "import numpy as np\n",
    "dataarray=[]\n",
    "for i in data[\"Path\"]:\n",
    "    image = np.array(Image.open(i)).reshape(-1)\n",
    "    dataarray.append(image)\n",
    "Data = np.array(dataarray)\n",
    "\n"
   ]
  },
  {
   "cell_type": "code",
   "execution_count": 116,
   "id": "fc088ffd",
   "metadata": {},
   "outputs": [],
   "source": [
    "y=data['Label']"
   ]
  },
  {
   "cell_type": "code",
   "execution_count": 117,
   "id": "8bd82e5e",
   "metadata": {},
   "outputs": [],
   "source": [
    "from sklearn.model_selection import train_test_split\n",
    "X_train, X_test, y_train, y_test = train_test_split(Data,y, test_size=0.25,random_state=False)"
   ]
  },
  {
   "cell_type": "markdown",
   "id": "49ceedb7",
   "metadata": {},
   "source": [
    "# Traning a Decision Tree and Printing its accuracy"
   ]
  },
  {
   "cell_type": "code",
   "execution_count": 118,
   "id": "9777592f",
   "metadata": {},
   "outputs": [],
   "source": [
    "from sklearn.model_selection import cross_val_score\n",
    "from sklearn.tree import DecisionTreeClassifier\n",
    "clf = DecisionTreeClassifier(random_state=0, criterion='entropy')"
   ]
  },
  {
   "cell_type": "code",
   "execution_count": 119,
   "id": "335f0bb3",
   "metadata": {},
   "outputs": [],
   "source": [
    "clf = clf.fit(X_train, y_train)"
   ]
  },
  {
   "cell_type": "code",
   "execution_count": 120,
   "id": "518d53a0",
   "metadata": {},
   "outputs": [],
   "source": [
    "predictedVal = clf.predict(X_test)"
   ]
  },
  {
   "cell_type": "code",
   "execution_count": 121,
   "id": "bcb9ad8e",
   "metadata": {},
   "outputs": [
    {
     "name": "stdout",
     "output_type": "stream",
     "text": [
      "Accuracy 62.96296296296296 %\n"
     ]
    }
   ],
   "source": [
    "from sklearn.metrics import accuracy_score\n",
    "print(\"Accuracy {} %\".format(100*accuracy_score(predictedVal,y_test)))"
   ]
  },
  {
   "cell_type": "code",
   "execution_count": 122,
   "id": "17ba5bd3",
   "metadata": {},
   "outputs": [
    {
     "name": "stdout",
     "output_type": "stream",
     "text": [
      "              precision    recall  f1-score   support\n",
      "\n",
      "           0       0.64      0.64      0.64        14\n",
      "           1       0.62      0.62      0.62        13\n",
      "\n",
      "    accuracy                           0.63        27\n",
      "   macro avg       0.63      0.63      0.63        27\n",
      "weighted avg       0.63      0.63      0.63        27\n",
      "\n"
     ]
    }
   ],
   "source": [
    "from sklearn.metrics import classification_report\n",
    "print(classification_report(y_test, predictedVal))"
   ]
  }
 ],
 "metadata": {
  "kernelspec": {
   "display_name": "Python 3 (ipykernel)",
   "language": "python",
   "name": "python3"
  },
  "language_info": {
   "codemirror_mode": {
    "name": "ipython",
    "version": 3
   },
   "file_extension": ".py",
   "mimetype": "text/x-python",
   "name": "python",
   "nbconvert_exporter": "python",
   "pygments_lexer": "ipython3",
   "version": "3.9.13"
  }
 },
 "nbformat": 4,
 "nbformat_minor": 5
}
